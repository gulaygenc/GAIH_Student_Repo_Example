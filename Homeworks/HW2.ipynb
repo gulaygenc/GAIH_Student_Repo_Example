{
 "cells": [
  {
   "cell_type": "code",
   "execution_count": null,
   "metadata": {},
   "outputs": [],
   "source": [
    "info={}\n",
    "names=[]\n",
    "\n",
    "for i in range(5):\n",
    "    names.append(input(\"Please enter the {}. student name: \".format(i+1)))    \n",
    "\n",
    "info=names.copy()\n",
    "print(info)"
   ]
  },
  {
   "cell_type": "code",
   "execution_count": null,
   "metadata": {},
   "outputs": [],
   "source": [
    "grades=[]\n",
    "temp=[]\n",
    "\n",
    "\n",
    "for i in range(5):\n",
    "    \n",
    "    for j in range(3):\n",
    "        temp.append(input(\"Please enter the {}. student's grades(midterm,final,homework): \".format(i+1)))\n",
    "         \n",
    "       \n",
    "    grades.append(temp)\n",
    "    print(grades)\n",
    "    for k in range(3):\n",
    "        temp.clear()"
   ]
  },
  {
   "cell_type": "code",
   "execution_count": null,
   "metadata": {},
   "outputs": [],
   "source": [
    "for i in range(5)\n",
    "    info[i]=grades[i].copy()\n",
    "\n",
    "print(info)"
   ]
  }
 ],
 "metadata": {
  "kernelspec": {
   "display_name": "Python 3",
   "language": "python",
   "name": "python3"
  },
  "language_info": {
   "codemirror_mode": {
    "name": "ipython",
    "version": 3
   },
   "file_extension": ".py",
   "mimetype": "text/x-python",
   "name": "python",
   "nbconvert_exporter": "python",
   "pygments_lexer": "ipython3",
   "version": "3.8.5"
  }
 },
 "nbformat": 4,
 "nbformat_minor": 4
}
